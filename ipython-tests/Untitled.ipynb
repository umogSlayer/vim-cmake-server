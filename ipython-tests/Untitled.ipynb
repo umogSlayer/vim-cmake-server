{
 "cells": [
  {
   "cell_type": "code",
   "execution_count": 1,
   "metadata": {},
   "outputs": [],
   "source": [
    "import asyncio"
   ]
  },
  {
   "cell_type": "code",
   "execution_count": 15,
   "metadata": {},
   "outputs": [],
   "source": [
    "import sys\n",
    "import os\n",
    "sys.path[:0] = [os.path.join(os.path.abspath(os.path.curdir), \"..\", \"python\")]"
   ]
  },
  {
   "cell_type": "code",
   "execution_count": 16,
   "metadata": {},
   "outputs": [],
   "source": [
    "import proto"
   ]
  },
  {
   "cell_type": "code",
   "execution_count": 3,
   "metadata": {},
   "outputs": [],
   "source": [
    "import logging\n",
    "logging.basicConfig(level=logging.DEBUG)"
   ]
  },
  {
   "cell_type": "code",
   "execution_count": 4,
   "metadata": {},
   "outputs": [
    {
     "name": "stderr",
     "output_type": "stream",
     "text": [
      "DEBUG:asyncio:Using selector: EpollSelector\n"
     ]
    }
   ],
   "source": [
    "loop = asyncio.get_event_loop()\n",
    "loop.set_debug(True)"
   ]
  },
  {
   "cell_type": "code",
   "execution_count": 5,
   "metadata": {},
   "outputs": [],
   "source": [
    "cmake_server = proto.CMakeServer(loop, lambda x: print(x))"
   ]
  },
  {
   "cell_type": "code",
   "execution_count": 6,
   "metadata": {},
   "outputs": [],
   "source": [
    "reader, writer = loop.run_until_complete(asyncio.open_unix_connection(\"/home/umogslayer/zenith-cmake/pipe\"))"
   ]
  },
  {
   "cell_type": "code",
   "execution_count": 7,
   "metadata": {},
   "outputs": [],
   "source": [
    "async def read_loop():\n",
    "    while True:\n",
    "        read_message = await reader.readline()\n",
    "        print(\"Message read: len=%d: %s\" % (len(read_message), read_message.decode(\"utf-8\")))\n",
    "        if reader.at_eof():\n",
    "            await cmake_server.async_stop_execution()\n",
    "        await cmake_server.async_report_cmake_server_message(read_message)"
   ]
  },
  {
   "cell_type": "code",
   "execution_count": 13,
   "metadata": {},
   "outputs": [],
   "source": [
    "async def async_send_message_and_print(request):\n",
    "    async def send_message_callback(message):\n",
    "        print(\"Balalaika\")\n",
    "        writer.write(message)\n",
    "        await writer.drain()\n",
    "        print(\"Balalaika2\")\n",
    "    response_iterator = await cmake_server.async_post_cmake_server_request(request_object=request,\n",
    "                                                                           async_send_message_cb=send_message_callback)\n",
    "    async for response in response_iterator:\n",
    "        print(response)"
   ]
  },
  {
   "cell_type": "code",
   "execution_count": 14,
   "metadata": {},
   "outputs": [],
   "source": [
    "async def handshake():\n",
    "    request = {\n",
    "        \"type\": \"handshake\",\n",
    "        \"cookie\": \"temp\",\n",
    "        \"protocolVersion\": {\n",
    "            \"major\": 1,\n",
    "        },\n",
    "        \"generator\": \"Ninja\",\n",
    "        \"sourceDirectory\": \"/home/umogslayer/zenith-cmake/zenith-engine/Src/CMakeEntryPoint\",\n",
    "        \"buildDirectory\": \"/home/umogslayer/zenith-cmake/temp_build\",\n",
    "    }\n",
    "    await async_send_message_and_print(request)\n",
    "    \n",
    "async def globalSettings():\n",
    "    request = {\n",
    "        \"type\": \"globalSettings\",\n",
    "        \"cookie\": \"temp\",\n",
    "    }\n",
    "    await async_send_message_and_print(request)\n",
    "    \n",
    "async def configure():\n",
    "    request = {\n",
    "        \"type\": \"configure\",\n",
    "        \"cookie\": \"temp\",\n",
    "        \"cacheArguments\": [],\n",
    "    }\n",
    "    await async_send_message_and_print(request)\n"
   ]
  },
  {
   "cell_type": "code",
   "execution_count": 10,
   "metadata": {},
   "outputs": [],
   "source": [
    "# loop.run_forever()"
   ]
  },
  {
   "cell_type": "code",
   "execution_count": 11,
   "metadata": {},
   "outputs": [
    {
     "name": "stderr",
     "output_type": "stream",
     "text": [
      "DEBUG:CMakeServer:CMake server hello message: HelloMessage(supported_versions=[SupportedVersion(isExperimental=True, major=1, minor=2)])\n",
      "DEBUG:CMakeServer:Server message: {'cookie': 'temp', 'inReplyTo': 'handshake', 'type': 'reply'}\n"
     ]
    },
    {
     "name": "stdout",
     "output_type": "stream",
     "text": [
      "Message read: len=1: \n",
      "\n",
      "Balalaika\n",
      "Balalaika2\n",
      "Message read: len=23: [== \"CMake Server\" ==[\n",
      "\n",
      "Message read: len=91: {\"supportedProtocolVersions\":[{\"isExperimental\":true,\"major\":1,\"minor\":2}],\"type\":\"hello\"}\n",
      "\n",
      "Message read: len=23: ]== \"CMake Server\" ==]\n",
      "\n",
      "Message read: len=1: \n",
      "\n",
      "Message read: len=23: [== \"CMake Server\" ==[\n",
      "\n",
      "Message read: len=57: {\"cookie\":\"temp\",\"inReplyTo\":\"handshake\",\"type\":\"reply\"}\n",
      "\n",
      "Message read: len=23: ]== \"CMake Server\" ==]\n",
      "\n",
      "{'cookie': 'temp', 'inReplyTo': 'handshake', 'type': 'reply'}\n"
     ]
    }
   ],
   "source": [
    "loop.create_task(read_loop())\n",
    "loop.run_until_complete(handshake())\n",
    "# loop.run_forever()"
   ]
  },
  {
   "cell_type": "code",
   "execution_count": 15,
   "metadata": {},
   "outputs": [
    {
     "name": "stderr",
     "output_type": "stream",
     "text": [
      "DEBUG:asyncio:poll took 0.020 ms: 1 events\n",
      "DEBUG:CMakeServer:Server message: {'buildDirectory': '/home/umogslayer/zenith-cmake/temp_build', 'capabilities': {'generators': [{'extraGenerators': [], 'name': 'Watcom WMake', 'platformSupport': False, 'toolsetSupport': False}, {'extraGenerators': ['CodeBlocks', 'CodeLite', 'Sublime Text 2', 'Kate', 'Eclipse CDT4'], 'name': 'Unix Makefiles', 'platformSupport': False, 'toolsetSupport': False}, {'extraGenerators': ['CodeBlocks', 'CodeLite', 'Sublime Text 2', 'Kate', 'Eclipse CDT4'], 'name': 'Ninja', 'platformSupport': False, 'toolsetSupport': False}], 'serverMode': True, 'version': {'isDirty': False, 'major': 3, 'minor': 11, 'patch': 2, 'string': '3.11.2', 'suffix': ''}}, 'checkSystemVars': False, 'cookie': 'temp', 'debugOutput': False, 'extraGenerator': '', 'generator': 'Ninja', 'inReplyTo': 'globalSettings', 'sourceDirectory': '/home/umogslayer/zenith-cmake/zenith-engine/Src/CMakeEntryPoint', 'trace': False, 'traceExpand': False, 'type': 'reply', 'warnUninitialized': False, 'warnUnused': False, 'warnUnusedCli': True}\n"
     ]
    },
    {
     "name": "stdout",
     "output_type": "stream",
     "text": [
      "Balalaika\n",
      "Balalaika2\n",
      "Message read: len=1: \n",
      "\n",
      "Message read: len=23: [== \"CMake Server\" ==[\n",
      "\n",
      "Message read: len=924: {\"buildDirectory\":\"/home/umogslayer/zenith-cmake/temp_build\",\"capabilities\":{\"generators\":[{\"extraGenerators\":[],\"name\":\"Watcom WMake\",\"platformSupport\":false,\"toolsetSupport\":false},{\"extraGenerators\":[\"CodeBlocks\",\"CodeLite\",\"Sublime Text 2\",\"Kate\",\"Eclipse CDT4\"],\"name\":\"Unix Makefiles\",\"platformSupport\":false,\"toolsetSupport\":false},{\"extraGenerators\":[\"CodeBlocks\",\"CodeLite\",\"Sublime Text 2\",\"Kate\",\"Eclipse CDT4\"],\"name\":\"Ninja\",\"platformSupport\":false,\"toolsetSupport\":false}],\"serverMode\":true,\"version\":{\"isDirty\":false,\"major\":3,\"minor\":11,\"patch\":2,\"string\":\"3.11.2\",\"suffix\":\"\"}},\"checkSystemVars\":false,\"cookie\":\"temp\",\"debugOutput\":false,\"extraGenerator\":\"\",\"generator\":\"Ninja\",\"inReplyTo\":\"globalSettings\",\"sourceDirectory\":\"/home/umogslayer/zenith-cmake/zenith-engine/Src/CMakeEntryPoint\",\"trace\":false,\"traceExpand\":false,\"type\":\"reply\",\"warnUninitialized\":false,\"warnUnused\":false,\"warnUnusedCli\":true}\n",
      "\n",
      "Message read: len=23: ]== \"CMake Server\" ==]\n",
      "\n",
      "{'buildDirectory': '/home/umogslayer/zenith-cmake/temp_build', 'capabilities': {'generators': [{'extraGenerators': [], 'name': 'Watcom WMake', 'platformSupport': False, 'toolsetSupport': False}, {'extraGenerators': ['CodeBlocks', 'CodeLite', 'Sublime Text 2', 'Kate', 'Eclipse CDT4'], 'name': 'Unix Makefiles', 'platformSupport': False, 'toolsetSupport': False}, {'extraGenerators': ['CodeBlocks', 'CodeLite', 'Sublime Text 2', 'Kate', 'Eclipse CDT4'], 'name': 'Ninja', 'platformSupport': False, 'toolsetSupport': False}], 'serverMode': True, 'version': {'isDirty': False, 'major': 3, 'minor': 11, 'patch': 2, 'string': '3.11.2', 'suffix': ''}}, 'checkSystemVars': False, 'cookie': 'temp', 'debugOutput': False, 'extraGenerator': '', 'generator': 'Ninja', 'inReplyTo': 'globalSettings', 'sourceDirectory': '/home/umogslayer/zenith-cmake/zenith-engine/Src/CMakeEntryPoint', 'trace': False, 'traceExpand': False, 'type': 'reply', 'warnUninitialized': False, 'warnUnused': False, 'warnUnusedCli': True}\n"
     ]
    }
   ],
   "source": [
    "loop.run_until_complete(globalSettings())"
   ]
  },
  {
   "cell_type": "code",
   "execution_count": 1,
   "metadata": {
    "scrolled": true
   },
   "outputs": [
    {
     "ename": "NameError",
     "evalue": "name 'loop' is not defined",
     "output_type": "error",
     "traceback": [
      "\u001b[0;31m---------------------------------------------------------------------------\u001b[0m",
      "\u001b[0;31mNameError\u001b[0m                                 Traceback (most recent call last)",
      "\u001b[0;32m<ipython-input-1-ddfbeb539a55>\u001b[0m in \u001b[0;36m<module>\u001b[0;34m()\u001b[0m\n\u001b[0;32m----> 1\u001b[0;31m \u001b[0mloop\u001b[0m\u001b[0;34m.\u001b[0m\u001b[0mrun_until_complete\u001b[0m\u001b[0;34m(\u001b[0m\u001b[0mconfigure\u001b[0m\u001b[0;34m(\u001b[0m\u001b[0;34m)\u001b[0m\u001b[0;34m)\u001b[0m\u001b[0;34m\u001b[0m\u001b[0m\n\u001b[0m",
      "\u001b[0;31mNameError\u001b[0m: name 'loop' is not defined"
     ]
    }
   ],
   "source": [
    "loop.run_until_complete(configure())"
   ]
  },
  {
   "cell_type": "code",
   "execution_count": null,
   "metadata": {},
   "outputs": [],
   "source": []
  }
 ],
 "metadata": {
  "kernelspec": {
   "display_name": "Python 3",
   "language": "python",
   "name": "python3"
  },
  "language_info": {
   "codemirror_mode": {
    "name": "ipython",
    "version": 3
   },
   "file_extension": ".py",
   "mimetype": "text/x-python",
   "name": "python",
   "nbconvert_exporter": "python",
   "pygments_lexer": "ipython3",
   "version": "3.6.5"
  }
 },
 "nbformat": 4,
 "nbformat_minor": 2
}
